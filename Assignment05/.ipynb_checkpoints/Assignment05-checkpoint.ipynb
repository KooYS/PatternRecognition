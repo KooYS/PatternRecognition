{
 "cells": [
  {
   "cell_type": "markdown",
   "metadata": {},
   "source": [
    "# Assignment 05\n",
    "***"
   ]
  },
  {
   "cell_type": "markdown",
   "metadata": {},
   "source": [
    "\n",
    "### K-means clustering 2번째\n"
   ]
  },
  {
   "cell_type": "markdown",
   "metadata": {},
   "source": [
    "---\n",
    "### 모듈 정의"
   ]
  },
  {
   "cell_type": "markdown",
   "metadata": {},
   "source": [
    "\n",
    "#### 그래프를 그리기 위해 Python3 matplotlib module 을 사용합니다\n",
    "#### accuracy 측정을 위하여 Counter를 사용합니다.\n",
    "#### 처음 랜덤한 Centroid를 정하기 위하여 random 사용합니다.\n",
    "\n",
    "#### 이미지 픽셀의 RGB를 가져오기 위해서 PIL의 Image를 사용합니다."
   ]
  },
  {
   "cell_type": "code",
   "execution_count": 124,
   "metadata": {
    "collapsed": true
   },
   "outputs": [],
   "source": [
    "import matplotlib.pyplot as plt\n",
    "import numpy as np\n",
    "import random\n",
    "from collections import Counter\n",
    "from PIL import Image"
   ]
  },
  {
   "cell_type": "markdown",
   "metadata": {},
   "source": [
    "---"
   ]
  },
  {
   "cell_type": "markdown",
   "metadata": {},
   "source": [
    "## 1. 이미지 선정"
   ]
  },
  {
   "cell_type": "markdown",
   "metadata": {},
   "source": [
    "- 사용하고자하는 이미지를 선정합니다.\n",
    "\n"
   ]
  },
  {
   "cell_type": "code",
   "execution_count": 125,
   "metadata": {},
   "outputs": [
    {
     "data": {
      "image/jpeg": "[encoded data removed]",
      "text/plain": [
       "<IPython.core.display.Image object>"
      ]
     },
     "execution_count": 125,
     "metadata": {},
     "output_type": "execute_result"
    }
   ],
   "source": [
    "import IPython.display\n",
    "IPython.display.Image(filename='test.jpg') "
   ]
  },
  {
   "cell_type": "markdown",
   "metadata": {},
   "source": [
    "- 이미지의 size와 pixel의 RGB를 가져옵니다. (제대로 RGB값을 가져오는지 보기 위하여 사이즈는 500 by 400이지만 3 by 3만 출력)\n"
   ]
  },
  {
   "cell_type": "code",
   "execution_count": 126,
   "metadata": {},
   "outputs": [
    {
     "name": "stdout",
     "output_type": "stream",
     "text": [
      "-------------------\n",
      "이미지 사이즈 : (128,128)\n",
      "-------------------\n",
      "중간 부분에서 3 by 3을 출력\n",
      "-------------------\n",
      "(149, 227, 91)\n",
      "(231, 237, 49)\n",
      "(255, 234, 9)\n",
      "(208, 252, 69)\n",
      "(242, 248, 54)\n",
      "(255, 242, 44)\n",
      "(240, 251, 35)\n",
      "(251, 255, 47)\n",
      "(241, 244, 53)\n"
     ]
    }
   ],
   "source": [
    "im = Image.open('test.jpg')\n",
    "pix = im.load()\n",
    "print(\"-------------------\")\n",
    "print(\"이미지 사이즈 : (%d,%d)\" % (im.size[0],im.size[1]))\n",
    "\n",
    "print(\"-------------------\")\n",
    "print(\"중간 부분에서 3 by 3을 출력\")\n",
    "print(\"-------------------\")\n",
    "for x in range(64,67):\n",
    "    for y in range(64,67):\n",
    "        print(pix[x,y])\n"
   ]
  },
  {
   "cell_type": "markdown",
   "metadata": {},
   "source": [
    "## 2. 필요 함수 선언"
   ]
  },
  {
   "cell_type": "markdown",
   "metadata": {},
   "source": [
    "---\n",
    "#### init 함수\n",
    "- 픽셀에 해당하는 RGB와 클러스터 label을 저장할 matrix를 만듭니다.\n",
    "- 처음에는 RGB에 해당하는 클러스터 label을 랜덤으로 배정합니다.\n",
    "- 128 * 128의 사이즈에 해당하는 이미지의 각각의 픽셀과 랜덤으로 배정되는 클러스터 label을 label_matrix에 저장하여 반환합니다"
   ]
  },
  {
   "cell_type": "code",
   "execution_count": 127,
   "metadata": {},
   "outputs": [],
   "source": [
    "def init(im,pix,K):\n",
    "    label_matrix = [[0 for y in range(0,im.size[1])] for x in range(0,im.size[0])]\n",
    "    for x in range(0,im.size[0]):\n",
    "        for y in range(0,im.size[1]):\n",
    "            label_matrix[x][y] = (random.randrange(1,K+1),pix[x,y])\n",
    "\n",
    "    return label_matrix"
   ]
  },
  {
   "cell_type": "markdown",
   "metadata": {},
   "source": [
    "\n",
    "#### get_pixels_by_label 함수\n",
    "- 배정받은 클러스터의 label(초기 랜덤으로 배정되거나 centroid 연산으로 결정되는) 별로 pixel을 모읍니다.\n",
    "- 각각의 label 별로 dic변수에 저장되어 반환해줍니다.\n",
    "- 결과적으로 반환 값은 label별로 모여 있는 pixel들을 받습니다."
   ]
  },
  {
   "cell_type": "code",
   "execution_count": 128,
   "metadata": {
    "collapsed": true
   },
   "outputs": [],
   "source": [
    "def get_pixels_by_label(im,label_matrix):\n",
    "    dic = dict()\n",
    "    for x in range(0,im.size[0]):\n",
    "        for y in range(0,im.size[1]):\n",
    "            data = label_matrix[x][y]\n",
    "            if data[0] not in dic:\n",
    "                dic[data[0]] = []\n",
    "                dic[data[0]].append(data[1])\n",
    "            else:\n",
    "                dic[data[0]].append(data[1])\n",
    "    return dic"
   ]
  },
  {
   "cell_type": "markdown",
   "metadata": {},
   "source": [
    "\n",
    "#### centroid_select 함수\n",
    "- get_pixels_by_label에서 받은 label별로 모여있는 pixel들의 centroid를 만드는 작업을 합니다.\n",
    "- 각 label 별로 저장되어있는 모든 pixel의 (R,G,B) 합을 각 label 별로 저장되어있는 모든 pixel의 수로 나눕니다.\n",
    "- 결과적으로 cluster_centroid에 각 클러스터 별 centroid의 값을 저장하게 됩니다."
   ]
  },
  {
   "cell_type": "code",
   "execution_count": 129,
   "metadata": {
    "collapsed": true
   },
   "outputs": [],
   "source": [
    "def centroid_select(pixels_by_label,cluster_centroid):\n",
    "    for x in pixels_by_label:\n",
    "        temp = list(map(list, pixels_by_label[x]))\n",
    "        centroid = np.sum(np.array(temp), axis = 0) / len(temp)\n",
    "        cluster_centroid[x] = centroid\n",
    "    return cluster_centroid"
   ]
  },
  {
   "cell_type": "markdown",
   "metadata": {},
   "source": [
    "\n",
    "#### image2cluster 함수\n",
    "- 다시 모든 이미지들의 pixel의 R,G,B 값과 각 클러스터의 centroid와의 거리를 구하여 해당 pixel의 label을 가장 작은 거리의 클러스터 label로 업데이트 해줍니다."
   ]
  },
  {
   "cell_type": "code",
   "execution_count": 130,
   "metadata": {
    "collapsed": true
   },
   "outputs": [],
   "source": [
    "def image2cluster(im,matrix,centroids):\n",
    "    for x in range(0,im.size[0]):\n",
    "        for y in range(0,im.size[1]):\n",
    "            minDist = (99999999,99999999)\n",
    "            for idx in centroids:\n",
    "                dist = (np.linalg.norm(matrix[x][y][1] - centroids[idx]),idx)\n",
    "                if minDist[0] > dist[0]:\n",
    "                    minDist = dist \n",
    "            matrix[x][y] = (minDist[1],matrix[x][y][1])\n",
    "    return matrix"
   ]
  },
  {
   "cell_type": "markdown",
   "metadata": {},
   "source": [
    "\n",
    "#### get_energyfunction_val 함수와 show_energyfunction 함수\n",
    "- energy function의 값을 구하는 함수입니다.\n",
    "\n",
    "\n",
    "$$ \\frac{1}{K}\\sum_{k = 1}^K \\| x_i - c_{k_i} \\|^2 $$\n",
    "- where $k_i$ denotes the category of $x_i$, and $c_{k_i}$ denotes the centroid of category $x_i$.\n",
    "\n",
    "위 연산을 구현한 것으로 클러스터별 pixels 와 centroid의 norm을 구하고 클러스터별 value를 모두 더하여 K만큼 나눕니다.\n",
    "\n",
    "- show_energyfunction는 get_energyfunction_val에서 받은 energy의 값을 가지고 plot을 해주는 함수입니다."
   ]
  },
  {
   "cell_type": "code",
   "execution_count": 131,
   "metadata": {
    "collapsed": true
   },
   "outputs": [],
   "source": [
    "def get_energyfunction_val(cluster,centroids,K): \n",
    "    val = 0\n",
    "    for i in cluster:\n",
    "        val = val + np.linalg.norm(cluster[i] - cluster_centroid[i])\n",
    "    return val / K\n",
    "\n",
    "def show_energyfunction(iter,energy):\n",
    "    plt.xlabel(\"iterator\")\n",
    "    plt.ylabel(\"energy\")\n",
    "    plt.plot(range(0,iter), energy)\n",
    "    plt.show()"
   ]
  },
  {
   "cell_type": "markdown",
   "metadata": {},
   "source": [
    "\n",
    "#### save_result 함수\n",
    "- 클러스터링 연산을 하고 난 후의 정확도를 이미지로 확인하고자 만든 함수입니다.\n",
    "- iterator 만큼의 연산을 하고 난 후에 각 pixel에 해당하는 label의 해당하는 centroid값을 기존의 pixel 넣어서 이미지를 만듭니다."
   ]
  },
  {
   "cell_type": "code",
   "execution_count": 132,
   "metadata": {
    "collapsed": true
   },
   "outputs": [],
   "source": [
    "def save_result(im,pix,label_matrix,cluster_centroid):\n",
    "    for x in range(0,im.size[0]):\n",
    "        for y in range(0,im.size[1]):\n",
    "            pixel = cluster_centroid[label_matrix[x][y][0]]\n",
    "            pix[x,y] = (int(pixel[0]),int(pixel[1]),int(pixel[2]))\n",
    "    im.save(\"result.png\")"
   ]
  },
  {
   "cell_type": "markdown",
   "metadata": {},
   "source": [
    "## 3. 테스트(Energy 함수와 결과 이미지 비교)"
   ]
  },
  {
   "cell_type": "markdown",
   "metadata": {},
   "source": [
    "---\n",
    "### K=5 , iterator = 10"
   ]
  },
  {
   "cell_type": "code",
   "execution_count": 158,
   "metadata": {},
   "outputs": [
    {
     "data": {
      "image/png": "[encoded data removed]",
      "text/plain": [
       "<Figure size 432x288 with 1 Axes>"
      ]
     },
     "metadata": {},
     "output_type": "display_data"
    },
    {
     "data": {
      "image/png": "[encoded data removed]",
      "text/plain": [
       "<Figure size 432x288 with 1 Axes>"
      ]
     },
     "metadata": {},
     "output_type": "display_data"
    },
    {
     "data": {
      "image/png": "[encoded data removed]",
      "text/plain": [
       "<Figure size 432x288 with 1 Axes>"
      ]
     },
     "metadata": {},
     "output_type": "display_data"
    },
    {
     "data": {
      "image/png": "[encoded data removed]",
      "text/plain": [
       "<Figure size 432x288 with 1 Axes>"
      ]
     },
     "metadata": {},
     "output_type": "display_data"
    }
   ],
   "source": [
    "# K = 5\n",
    "iterator = 10\n",
    "\n",
    "for K in [5,10,15,20]:\n",
    "    cluster_centroid = dict()\n",
    "    for i in range(1,K+1):\n",
    "        cluster_centroid[i] = 0\n",
    "\n",
    "    label_matrix = [[]]\n",
    "    label_matrix = init(im,pix,K)\n",
    "\n",
    "\n",
    "    energy = []\n",
    "    for x in range(0,iterator):\n",
    "        pixels_by_label = get_pixels_by_label(im,label_matrix)\n",
    "        cluster_centroid = centroid_select(pixels_by_label,cluster_centroid)\n",
    "        label_matrix = image2cluster(im,label_matrix,cluster_centroid)\n",
    "        energy.append(get_energyfunction_val(pixels_by_label,cluster_centroid,K))\n",
    "\n",
    "    show_energyfunction(iterator,energy)\n",
    "    save_result(im,pix,label_matrix,cluster_centroid,K)\n",
    "\n",
    "    IPython.display.Image(\"result.png\") \n"
   ]
  },
  {
   "cell_type": "markdown",
   "metadata": {},
   "source": [
    "### 결과\n",
    "- K=5 일때 많은 색상이 표현이 되지 않았습니다. \n",
    "- Energy 함수의 적절한 감소값으로 보이므로 K를 10으로 늘리고 다시 검사를 해보겠습니다."
   ]
  }
 ],
 "metadata": {
  "kernelspec": {
   "display_name": "Python 3",
   "language": "python",
   "name": "python3"
  },
  "language_info": {
   "codemirror_mode": {
    "name": "ipython",
    "version": 3
   },
   "file_extension": ".py",
   "mimetype": "text/x-python",
   "name": "python",
   "nbconvert_exporter": "python",
   "pygments_lexer": "ipython3",
   "version": "3.6.6"
  }
 },
 "nbformat": 4,
 "nbformat_minor": 2
}
