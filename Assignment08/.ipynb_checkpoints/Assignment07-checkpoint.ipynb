{
 "cells": [
  {
   "cell_type": "markdown",
   "metadata": {},
   "source": [
    "# Assignment 07\n",
    "***"
   ]
  },
  {
   "cell_type": "markdown",
   "metadata": {},
   "source": [
    "# 과제 정의\n",
    "***"
   ]
  },
  {
   "cell_type": "markdown",
   "metadata": {},
   "source": [
    "[Apply K-means algorithm to both image value and its spatial domain]\n",
    "\n",
    "For a given input image (either gray or color), apply a K-means algorithm that is designed to take into consideration of both the image intensity and its spatial domain with varying parameters: the number of clusters and the trade-off between the intensity energy and the spatial energy.\n",
    "\n",
    "The objective function is given by:\n",
    "\n",
    "$\\sum_k \\sum_\\{ x \\in I(k) \\} [ \\| f(x) - m_k \\|^2 + a * \\| x - c_k \\|^2 ]$\n",
    "\n",
    "where I(k) denotes the index set of x that belongs to cluster k, m_k denotes the centroid of image intensity for cluster k, c_k denotes the centroid of spatial location for cluster k, and a determines the importance between the image intensity and the spatial relation.\n",
    "\n",
    "- Visualize the clustering results with varying k and a using the centroid color m_k for each cluster k. \n",
    "\n",
    "- Visualize the energy curve for both the intensity energy and the spatial energy.\n"
   ]
  },
  {
   "cell_type": "markdown",
   "metadata": {},
   "source": [
    "---\n",
    "### 모듈 정의"
   ]
  },
  {
   "cell_type": "markdown",
   "metadata": {},
   "source": [
    "\n",
    "#### 그래프를 그리기 위해 Python3 matplotlib module 을 사용합니다"
   ]
  },
  {
   "cell_type": "code",
   "execution_count": 1,
   "metadata": {
    "collapsed": true
   },
   "outputs": [],
   "source": [
    "import matplotlib.pyplot as plt\n",
    "import numpy as np\n",
    "import random\n",
    "from PIL import Image"
   ]
  },
  {
   "cell_type": "markdown",
   "metadata": {},
   "source": [
    "---"
   ]
  },
  {
   "cell_type": "markdown",
   "metadata": {},
   "source": [
    "## 1. 기본 데이터 입력받기"
   ]
  },
  {
   "cell_type": "markdown",
   "metadata": {},
   "source": [
    "아래의 이미지로 진행합니다."
   ]
  },
  {
   "cell_type": "code",
   "execution_count": 2,
   "metadata": {},
   "outputs": [
    {
     "data": {
      "image/jpeg": "[encoded data removed]",
      "text/plain": [
       "<IPython.core.display.Image object>"
      ]
     },
     "execution_count": 2,
     "metadata": {},
     "output_type": "execute_result"
    }
   ],
   "source": [
    "import IPython.display \n",
    "IPython.display.Image(filename='test.jpg')"
   ]
  },
  {
   "cell_type": "markdown",
   "metadata": {},
   "source": [
    "## 2. 필요 함수 선언"
   ]
  },
  {
   "cell_type": "markdown",
   "metadata": {},
   "source": [
    "---\n",
    "#### init 함수\n",
    "- label이 들어갈 matrix(이미지 크기)에 label값을 넣습니다.\n",
    "- x1,x2(위치좌표), rgb, label이 들어갈 matrix를 만듭니다.\n",
    "- 총 3개의 matrix를 구성하여 반환합니다.\n"
   ]
  },
  {
   "cell_type": "code",
   "execution_count": 3,
   "metadata": {
    "collapsed": true
   },
   "outputs": [],
   "source": [
    "def init(rows,cols,K,pix):\n",
    "    label_matrix = [[0 for x in range(0,cols)] for y in range(0,rows)]\n",
    "    x1 = np.zeros((rows * cols), dtype=int)\n",
    "    x2 = np.zeros((rows * cols), dtype=int)\n",
    "    for row in range(0,rows):\n",
    "        for col in range(0,cols):\n",
    "            rgb = tuple(ti/255 for ti in pix[row,col])\n",
    "            label_matrix[row][col] = (random.randrange(1,K+1),rgb,[row/(rows-1),col/(cols-1)])\n",
    "            #label_matrix[row][col] = (random.randrange(1,K+1),pix[row,col])\n",
    "            index = (row * cols) + col\n",
    "            x1[index] = row\n",
    "            x2[index] = col\n",
    "    return label_matrix, x1, x2"
   ]
  },
  {
   "cell_type": "markdown",
   "metadata": {},
   "source": [
    "\n",
    "#### get_locate_by_label 함수\n",
    "- 배정받은 클러스터의 label 별로 데이터를 모읍니다.\n",
    "- 결과적으로 반환 값은 label별로 모여 있는 5차원의 데이터를 받습니다."
   ]
  },
  {
   "cell_type": "code",
   "execution_count": 6,
   "metadata": {
    "collapsed": true
   },
   "outputs": [],
   "source": [
    "def get_locate_rgb_by_label(rows,cols,x1,x2,label_matrix):\n",
    "    dic = dict()\n",
    "    for i in range(0, len(x1)):\n",
    "        row = x1[i]\n",
    "        col = x2[i]\n",
    "        data = label_matrix[row][col]\n",
    "        if data[0] not in dic:\n",
    "            dic[data[0]] = []\n",
    "            dic[data[0]].append([data[2],data[1]])\n",
    "        else:\n",
    "            dic[data[0]].append([data[2],data[1]])\n",
    "\n",
    "    return dic"
   ]
  },
  {
   "cell_type": "markdown",
   "metadata": {},
   "source": [
    "\n",
    "#### centroid_select 함수\n",
    "- get_locate_rgb_by_label에서 받은 label별로 모여있는 정보들의 centroid를 만드는 작업을 합니다.\n",
    "- 각 label 별로 저장되어있는 모든 정보의 합을 각 label 별로 저장되어있는 모든 데이터의 수로 나눕니다. (중심값을 얻습니다.)\n",
    "- 결과적으로 centroid_rgb, centroid_locate에 각 클러스터 별 위치, rgb의 centroid의 값을 저장하게 됩니다."
   ]
  },
  {
   "cell_type": "code",
   "execution_count": 8,
   "metadata": {
    "collapsed": true
   },
   "outputs": [],
   "source": [
    "def centroid_select(dic):\n",
    "    centroid_rgb = dict()\n",
    "    centroid_locate = dict()\n",
    "    for i in dic:\n",
    "        rgb = []\n",
    "        locate = []\n",
    "        for x in dic[i]:\n",
    "            rgb.append(x[1])\n",
    "            locate.append(x[0])\n",
    "        rgb = list(map(list, rgb))\n",
    "        centroid_rgb[i] = np.sum(np.array(rgb), axis = 0) / len(rgb)\n",
    "        centroid_locate[i] = np.sum(np.array(locate), axis = 0)/len(locate)\n",
    "    return centroid_rgb, centroid_locate"
   ]
  },
  {
   "cell_type": "markdown",
   "metadata": {},
   "source": [
    "\n",
    "#### cluster 함수\n",
    "- 각 클러스터의 centroid_rgb, centroid_locate와의 거리를 구하여 가장 거리가 짧은 거리의 label을 따라갑니다.\n",
    "- $dist = ((r - C_r)^2 + (g - C_g)^2 + (b - C_b)^2) + Lambda*((x - C_x)^2 + (y - C_y)^2)$ \n",
    "- 위의 식으로 거리를 구하고 각 클러스터의 거리 중 짧은 거리의 클러스터 label을 따라갑니다."
   ]
  },
  {
   "cell_type": "code",
   "execution_count": 10,
   "metadata": {
    "collapsed": true
   },
   "outputs": [],
   "source": [
    "def cluster(label_matrix,x1,x2,rgb,locate,Lambda):\n",
    "    for i in range(0, len(x1)):\n",
    "        row = x1[i]\n",
    "        col = x2[i]\n",
    "        minDist = 99999999\n",
    "        label = 99999999\n",
    "        for i in range(1,len(rgb) + 1):\n",
    "            data = label_matrix[row][col]\n",
    "            locate_dist = Lambda * (pow((locate[i][0] - data[2][0]),2) + pow((locate[i][1] - data[2][1]),2))\n",
    "            rgb_dist = pow((rgb[i][0] - data[1][0]),2) + pow((rgb[i][1] - data[1][1]),2) + pow((rgb[i][2] - data[1][2]),2)\n",
    "            dist = locate_dist + rgb_dist\n",
    "            if minDist > dist:\n",
    "                minDist = dist\n",
    "                label = (i,data[1],data[2])\n",
    "        label_matrix[row][col] = label\n",
    "\n",
    "\n",
    "    return label_matrix\n"
   ]
  },
  {
   "cell_type": "markdown",
   "metadata": {},
   "source": [
    "\n",
    "#### get_energyfunction_val 함수와 show_energyfunction 함수\n",
    "- energy function의 값을 구하는 함수입니다.\n",
    "\n",
    "\n",
    "$$ \\sum_k \\sum _{x \\in I(k)} [\\  | f (x) - m_k \\ | ^ 2 + a * \\ | X - C_K \\ | ^ 2]\n",
    " $$\n",
    "I (K)는 K 개의 클러스터에 속한 X의 세트의 인덱스를 나타내고, $m_k$ 클러스터 k에 대한 이미지 데이터의 중심을 나타내고, $C_K$ 클러스터 k에 대한 공간 위치의 중심 및 여부를 확인 나타낸다 이미지 강도와 공간적 관계 사이의 중요성.\n",
    "\n",
    "위 연산을 구현한 것으로 energy를 구합니다.\n",
    "\n",
    "- show_energyfunction는 get_energyfunction_val에서 받은 energy의 값을 가지고 plot을 해주는 함수입니다."
   ]
  },
  {
   "cell_type": "code",
   "execution_count": 12,
   "metadata": {
    "collapsed": true
   },
   "outputs": [],
   "source": [
    "def get_energyfunction_val(dic,rgb,locate,Lambda,K): \n",
    "    val = 0\n",
    "    for i in dic:\n",
    "        i_locate_dist = 0\n",
    "        i_rgb_dist = 0\n",
    "        for x in dic[i]:\n",
    "            _rgb = x[1]\n",
    "            _locate = x[0]\n",
    "            locate_dist = Lambda * (pow((locate[i][0] - _locate[0]),2) + pow((locate[i][1] - _locate[1]),2))\n",
    "            rgb_dist = pow((rgb[i][0] - _rgb[0]),2) + pow((rgb[i][1] - _rgb[1]),2) + pow((rgb[i][2] - _rgb[2]),2)\n",
    "            i_locate_dist = i_locate_dist + locate_dist\n",
    "            i_rgb_dist = i_rgb_dist + rgb_dist\n",
    "        dist = i_locate_dist + i_rgb_dist\n",
    "        val = val + dist\n",
    "    return val / K\n",
    "\n",
    "def show_energyfunction(iter,energy):\n",
    "    plt.xlabel(\"iterator\")\n",
    "    plt.ylabel(\"energy\")\n",
    "    plt.plot(range(0,iter), energy)\n",
    "    plt.show()"
   ]
  },
  {
   "cell_type": "markdown",
   "metadata": {},
   "source": [
    "## 3. 테스트(Energy 함수와 결과 이미지 비교) - K가 5일때"
   ]
  },
  {
   "cell_type": "markdown",
   "metadata": {},
   "source": [
    "---\n",
    "### K=5 // iterator = 10 // Lambda = 0"
   ]
  },
  {
   "cell_type": "code",
   "execution_count": 19,
   "metadata": {},
   "outputs": [
    {
     "data": {
      "image/png": "[encoded data removed]",
      "text/plain": [
       "<Figure size 432x288 with 1 Axes>"
      ]
     },
     "metadata": {},
     "output_type": "display_data"
    },
    {
     "data": {
      "image/png": "[encoded data removed]",
      "text/plain": [
       "<IPython.core.display.Image object>"
      ]
     },
     "execution_count": 19,
     "metadata": {},
     "output_type": "execute_result"
    }
   ],
   "source": [
    "im = Image.open('test.jpg') # Can be many different formats.\n",
    "pix = im.load()\n",
    "K = 5\n",
    "Lambda = 0\n",
    "energy = []\n",
    "iterator = 10\n",
    "\n",
    "while True:\n",
    "    label_matrix , x1, x2 = init(im.size[1],im.size[0],K,pix)\n",
    "    dic = get_locate_rgb_by_label(im.size[1],im.size[0],x1,x2,label_matrix)\n",
    "    centroid_rgb, centroid_locate = centroid_select(dic)\n",
    "    if len(list(set([tuple(set(item)) for item in [*centroid_locate.values()] ]))) == K:\n",
    "        break\n",
    "\n",
    "for x in range(0,iterator):\n",
    "    label_matrix = cluster(label_matrix,x1,x2,centroid_rgb,centroid_locate,Lambda)\n",
    "    energy.append(get_energyfunction_val(dic,centroid_rgb,centroid_locate,Lambda,K))\n",
    "    dic = get_locate_rgb_by_label(im.size[1],im.size[0],x1,x2,label_matrix)\n",
    "    centroid_rgb, centroid_locate = centroid_select(dic)\n",
    "\n",
    "\n",
    "show_energyfunction(iterator,energy)\n",
    "\n",
    "for x in range(0,im.size[1]):\n",
    "    for y in range(0,im.size[0]):\n",
    "        pixel = centroid_rgb[label_matrix[x][y][0]]\n",
    "        pixel = tuple(ti * 255 for ti in pixel)\n",
    "        pix[x,y] = (int(pixel[0]),int(pixel[1]),int(pixel[2]))\n",
    "    im.save(str(K) + \"_result.png\")\n",
    "    \n",
    "import IPython.display \n",
    "IPython.display.Image(filename=str(K) + \"_result.png\")"
   ]
  },
  {
   "cell_type": "markdown",
   "metadata": {},
   "source": [
    "---\n",
    "### K=5 // iterator = 10 // Lambda = 2"
   ]
  },
  {
   "cell_type": "code",
   "execution_count": 21,
   "metadata": {},
   "outputs": [
    {
     "data": {
      "image/png": "[encoded data removed]",
      "text/plain": [
       "<Figure size 432x288 with 1 Axes>"
      ]
     },
     "metadata": {},
     "output_type": "display_data"
    },
    {
     "data": {
      "image/png": "[encoded data removed]",
      "text/plain": [
       "<IPython.core.display.Image object>"
      ]
     },
     "execution_count": 21,
     "metadata": {},
     "output_type": "execute_result"
    }
   ],
   "source": [
    "im = Image.open('test.jpg') # Can be many different formats.\n",
    "pix = im.load()\n",
    "K = 5\n",
    "Lambda = 2\n",
    "energy = []\n",
    "iterator = 10\n",
    "\n",
    "while True:\n",
    "    label_matrix , x1, x2 = init(im.size[1],im.size[0],K,pix)\n",
    "    dic = get_locate_rgb_by_label(im.size[1],im.size[0],x1,x2,label_matrix)\n",
    "    centroid_rgb, centroid_locate = centroid_select(dic)\n",
    "    if len(list(set([tuple(set(item)) for item in [*centroid_locate.values()] ]))) == K:\n",
    "        break\n",
    "\n",
    "for x in range(0,iterator):\n",
    "    label_matrix = cluster(label_matrix,x1,x2,centroid_rgb,centroid_locate,Lambda)\n",
    "    energy.append(get_energyfunction_val(dic,centroid_rgb,centroid_locate,Lambda,K))\n",
    "    dic = get_locate_rgb_by_label(im.size[1],im.size[0],x1,x2,label_matrix)\n",
    "    centroid_rgb, centroid_locate = centroid_select(dic)\n",
    "\n",
    "\n",
    "show_energyfunction(iterator,energy)\n",
    "\n",
    "for x in range(0,im.size[1]):\n",
    "    for y in range(0,im.size[0]):\n",
    "        pixel = centroid_rgb[label_matrix[x][y][0]]\n",
    "        pixel = tuple(ti * 255 for ti in pixel)\n",
    "        pix[x,y] = (int(pixel[0]),int(pixel[1]),int(pixel[2]))\n",
    "    im.save(str(K) + \"_result.png\")\n",
    "    \n",
    "import IPython.display \n",
    "IPython.display.Image(filename=str(K) + \"_result.png\")"
   ]
  },
  {
   "cell_type": "markdown",
   "metadata": {},
   "source": [
    "---\n",
    "### K=5 // iterator = 10 // Lambda = 4"
   ]
  },
  {
   "cell_type": "code",
   "execution_count": 24,
   "metadata": {},
   "outputs": [
    {
     "data": {
      "image/png": "[encoded data removed]",
      "text/plain": [
       "<Figure size 432x288 with 1 Axes>"
      ]
     },
     "metadata": {},
     "output_type": "display_data"
    },
    {
     "data": {
      "image/png": "[encoded data removed]",
      "text/plain": [
       "<IPython.core.display.Image object>"
      ]
     },
     "execution_count": 24,
     "metadata": {},
     "output_type": "execute_result"
    }
   ],
   "source": [
    "im = Image.open('test.jpg') # Can be many different formats.\n",
    "pix = im.load()\n",
    "K = 5\n",
    "Lambda = 4\n",
    "energy = []\n",
    "iterator = 10\n",
    "\n",
    "while True:\n",
    "    label_matrix , x1, x2 = init(im.size[1],im.size[0],K,pix)\n",
    "    dic = get_locate_rgb_by_label(im.size[1],im.size[0],x1,x2,label_matrix)\n",
    "    centroid_rgb, centroid_locate = centroid_select(dic)\n",
    "    if len(list(set([tuple(set(item)) for item in [*centroid_locate.values()] ]))) == K:\n",
    "        break\n",
    "\n",
    "for x in range(0,iterator):\n",
    "    label_matrix = cluster(label_matrix,x1,x2,centroid_rgb,centroid_locate,Lambda)\n",
    "    energy.append(get_energyfunction_val(dic,centroid_rgb,centroid_locate,Lambda,K))\n",
    "    dic = get_locate_rgb_by_label(im.size[1],im.size[0],x1,x2,label_matrix)\n",
    "    centroid_rgb, centroid_locate = centroid_select(dic)\n",
    "\n",
    "\n",
    "show_energyfunction(iterator,energy)\n",
    "\n",
    "for x in range(0,im.size[1]):\n",
    "    for y in range(0,im.size[0]):\n",
    "        pixel = centroid_rgb[label_matrix[x][y][0]]\n",
    "        pixel = tuple(ti * 255 for ti in pixel)\n",
    "        pix[x,y] = (int(pixel[0]),int(pixel[1]),int(pixel[2]))\n",
    "    im.save(str(K) + \"_result.png\")\n",
    "    \n",
    "import IPython.display \n",
    "IPython.display.Image(filename=str(K) + \"_result.png\")"
   ]
  },
  {
   "cell_type": "markdown",
   "metadata": {},
   "source": [
    "---\n",
    "### K=5 // iterator = 10 // Lambda = 8"
   ]
  },
  {
   "cell_type": "code",
   "execution_count": 30,
   "metadata": {},
   "outputs": [
    {
     "data": {
      "image/png": "[encoded data removed]",
      "text/plain": [
       "<Figure size 432x288 with 1 Axes>"
      ]
     },
     "metadata": {},
     "output_type": "display_data"
    },
    {
     "data": {
      "image/png": "[encoded data removed]",
      "text/plain": [
       "<IPython.core.display.Image object>"
      ]
     },
     "execution_count": 30,
     "metadata": {},
     "output_type": "execute_result"
    }
   ],
   "source": [
    "im = Image.open('test.jpg') # Can be many different formats.\n",
    "pix = im.load()\n",
    "K = 5\n",
    "Lambda = 8\n",
    "energy = []\n",
    "iterator = 10\n",
    "\n",
    "while True:\n",
    "    label_matrix , x1, x2 = init(im.size[1],im.size[0],K,pix)\n",
    "    dic = get_locate_rgb_by_label(im.size[1],im.size[0],x1,x2,label_matrix)\n",
    "    centroid_rgb, centroid_locate = centroid_select(dic)\n",
    "    if len(list(set([tuple(set(item)) for item in [*centroid_locate.values()] ]))) == K:\n",
    "        break\n",
    "\n",
    "for x in range(0,iterator):\n",
    "    label_matrix = cluster(label_matrix,x1,x2,centroid_rgb,centroid_locate,Lambda)\n",
    "    energy.append(get_energyfunction_val(dic,centroid_rgb,centroid_locate,Lambda,K))\n",
    "    dic = get_locate_rgb_by_label(im.size[1],im.size[0],x1,x2,label_matrix)\n",
    "    centroid_rgb, centroid_locate = centroid_select(dic)\n",
    "\n",
    "\n",
    "show_energyfunction(iterator,energy)\n",
    "\n",
    "for x in range(0,im.size[1]):\n",
    "    for y in range(0,im.size[0]):\n",
    "        pixel = centroid_rgb[label_matrix[x][y][0]]\n",
    "        pixel = tuple(ti * 255 for ti in pixel)\n",
    "        pix[x,y] = (int(pixel[0]),int(pixel[1]),int(pixel[2]))\n",
    "    im.save(str(K) + \"_result.png\")\n",
    "    \n",
    "import IPython.display \n",
    "IPython.display.Image(filename=str(K) + \"_result.png\")"
   ]
  },
  {
   "cell_type": "markdown",
   "metadata": {},
   "source": [
    "## 3. 테스트(Energy 함수와 결과 이미지 비교) - K가 10일때"
   ]
  },
  {
   "cell_type": "markdown",
   "metadata": {},
   "source": [
    "---\n",
    "### K=10 // iterator = 10 // Lambda = 0"
   ]
  },
  {
   "cell_type": "code",
   "execution_count": 45,
   "metadata": {},
   "outputs": [
    {
     "data": {
      "image/png": "[encoded data removed]",
      "text/plain": [
       "<Figure size 432x288 with 1 Axes>"
      ]
     },
     "metadata": {},
     "output_type": "display_data"
    },
    {
     "data": {
      "image/png": "[encoded data removed]",
      "text/plain": [
       "<IPython.core.display.Image object>"
      ]
     },
     "execution_count": 45,
     "metadata": {},
     "output_type": "execute_result"
    }
   ],
   "source": [
    "im = Image.open('test.jpg') # Can be many different formats.\n",
    "pix = im.load()\n",
    "K = 10\n",
    "Lambda = 0\n",
    "energy = []\n",
    "iterator = 10\n",
    "\n",
    "while True:\n",
    "    label_matrix , x1, x2 = init(im.size[1],im.size[0],K,pix)\n",
    "    dic = get_locate_rgb_by_label(im.size[1],im.size[0],x1,x2,label_matrix)\n",
    "    centroid_rgb, centroid_locate = centroid_select(dic)\n",
    "    if len(list(set([tuple(set(item)) for item in [*centroid_locate.values()] ]))) == K:\n",
    "        break\n",
    "\n",
    "for x in range(0,iterator):\n",
    "    label_matrix = cluster(label_matrix,x1,x2,centroid_rgb,centroid_locate,Lambda)\n",
    "    energy.append(get_energyfunction_val(dic,centroid_rgb,centroid_locate,Lambda,K))\n",
    "    dic = get_locate_rgb_by_label(im.size[1],im.size[0],x1,x2,label_matrix)\n",
    "    centroid_rgb, centroid_locate = centroid_select(dic)\n",
    "\n",
    "\n",
    "show_energyfunction(iterator,energy)\n",
    "\n",
    "for x in range(0,im.size[1]):\n",
    "    for y in range(0,im.size[0]):\n",
    "        pixel = centroid_rgb[label_matrix[x][y][0]]\n",
    "        pixel = tuple(ti * 255 for ti in pixel)\n",
    "        pix[x,y] = (int(pixel[0]),int(pixel[1]),int(pixel[2]))\n",
    "    im.save(str(K) + \"_result.png\")\n",
    "    \n",
    "import IPython.display \n",
    "IPython.display.Image(filename=str(K) + \"_result.png\")"
   ]
  },
  {
   "cell_type": "markdown",
   "metadata": {},
   "source": [
    "---\n",
    "### K=10 // iterator = 10 // Lambda = 4"
   ]
  },
  {
   "cell_type": "code",
   "execution_count": 48,
   "metadata": {},
   "outputs": [
    {
     "data": {
      "image/png": "[encoded data removed]",
      "text/plain": [
       "<Figure size 432x288 with 1 Axes>"
      ]
     },
     "metadata": {},
     "output_type": "display_data"
    },
    {
     "data": {
      "image/png": "[encoded data removed]",
      "text/plain": [
       "<IPython.core.display.Image object>"
      ]
     },
     "execution_count": 48,
     "metadata": {},
     "output_type": "execute_result"
    }
   ],
   "source": [
    "im = Image.open('test.jpg') # Can be many different formats.\n",
    "pix = im.load()\n",
    "K = 10\n",
    "Lambda = 4\n",
    "energy = []\n",
    "iterator = 10\n",
    "\n",
    "while True:\n",
    "    label_matrix , x1, x2 = init(im.size[1],im.size[0],K,pix)\n",
    "    dic = get_locate_rgb_by_label(im.size[1],im.size[0],x1,x2,label_matrix)\n",
    "    centroid_rgb, centroid_locate = centroid_select(dic)\n",
    "    if len(list(set([tuple(set(item)) for item in [*centroid_locate.values()] ]))) == K:\n",
    "        break\n",
    "\n",
    "for x in range(0,iterator):\n",
    "    label_matrix = cluster(label_matrix,x1,x2,centroid_rgb,centroid_locate,Lambda)\n",
    "    energy.append(get_energyfunction_val(dic,centroid_rgb,centroid_locate,Lambda,K))\n",
    "    dic = get_locate_rgb_by_label(im.size[1],im.size[0],x1,x2,label_matrix)\n",
    "    centroid_rgb, centroid_locate = centroid_select(dic)\n",
    "\n",
    "\n",
    "show_energyfunction(iterator,energy)\n",
    "\n",
    "for x in range(0,im.size[1]):\n",
    "    for y in range(0,im.size[0]):\n",
    "        pixel = centroid_rgb[label_matrix[x][y][0]]\n",
    "        pixel = tuple(ti * 255 for ti in pixel)\n",
    "        pix[x,y] = (int(pixel[0]),int(pixel[1]),int(pixel[2]))\n",
    "    im.save(str(K) + \"_result.png\")\n",
    "    \n",
    "import IPython.display \n",
    "IPython.display.Image(filename=str(K) + \"_result.png\")"
   ]
  },
  {
   "cell_type": "markdown",
   "metadata": {},
   "source": [
    "---\n",
    "### K=10 // iterator = 10 // Lambda = 9"
   ]
  },
  {
   "cell_type": "code",
   "execution_count": 72,
   "metadata": {},
   "outputs": [
    {
     "data": {
      "image/png": "[encoded data removed]",
      "text/plain": [
       "<Figure size 432x288 with 1 Axes>"
      ]
     },
     "metadata": {},
     "output_type": "display_data"
    },
    {
     "data": {
      "image/png": "[encoded data removed]",
      "text/plain": [
       "<IPython.core.display.Image object>"
      ]
     },
     "execution_count": 72,
     "metadata": {},
     "output_type": "execute_result"
    }
   ],
   "source": [
    "im = Image.open('test.jpg') # Can be many different formats.\n",
    "pix = im.load()\n",
    "K = 10\n",
    "Lambda = 9\n",
    "energy = []\n",
    "iterator = 10\n",
    "\n",
    "while True:\n",
    "    label_matrix , x1, x2 = init(im.size[1],im.size[0],K,pix)\n",
    "    dic = get_locate_rgb_by_label(im.size[1],im.size[0],x1,x2,label_matrix)\n",
    "    centroid_rgb, centroid_locate = centroid_select(dic)\n",
    "    if len(list(set([tuple(set(item)) for item in [*centroid_locate.values()] ]))) == K:\n",
    "        break\n",
    "\n",
    "for x in range(0,iterator):\n",
    "    label_matrix = cluster(label_matrix,x1,x2,centroid_rgb,centroid_locate,Lambda)\n",
    "    energy.append(get_energyfunction_val(dic,centroid_rgb,centroid_locate,Lambda,K))\n",
    "    dic = get_locate_rgb_by_label(im.size[1],im.size[0],x1,x2,label_matrix)\n",
    "    centroid_rgb, centroid_locate = centroid_select(dic)\n",
    "\n",
    "\n",
    "show_energyfunction(iterator,energy)\n",
    "\n",
    "for x in range(0,im.size[1]):\n",
    "    for y in range(0,im.size[0]):\n",
    "        pixel = centroid_rgb[label_matrix[x][y][0]]\n",
    "        pixel = tuple(ti * 255 for ti in pixel)\n",
    "        pix[x,y] = (int(pixel[0]),int(pixel[1]),int(pixel[2]))\n",
    "    im.save(str(K) + \"_result.png\")\n",
    "    \n",
    "import IPython.display \n",
    "IPython.display.Image(filename=str(K) + \"_result.png\")"
   ]
  }
 ],
 "metadata": {
  "kernelspec": {
   "display_name": "Python 3",
   "language": "python",
   "name": "python3"
  },
  "language_info": {
   "codemirror_mode": {
    "name": "ipython",
    "version": 3
   },
   "file_extension": ".py",
   "mimetype": "text/x-python",
   "name": "python",
   "nbconvert_exporter": "python",
   "pygments_lexer": "ipython3",
   "version": "3.6.6"
  }
 },
 "nbformat": 4,
 "nbformat_minor": 2
}
